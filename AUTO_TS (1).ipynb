{
 "cells": [
  {
   "cell_type": "markdown",
   "id": "49d7c7c2",
   "metadata": {
    "id": "49d7c7c2"
   },
   "source": [
    "### install library"
   ]
  },
  {
   "cell_type": "code",
   "execution_count": 9,
   "id": "8bec1ed0",
   "metadata": {
    "colab": {
     "base_uri": "https://localhost:8080/"
    },
    "id": "8bec1ed0",
    "outputId": "9df343f7-3c36-4fc7-c9b9-2ec79d13cdca"
   },
   "outputs": [],
   "source": [
    "# ! pip install auto-ts\n",
    "# !pip install py-AutoClean"
   ]
  },
  {
   "cell_type": "code",
   "execution_count": 2,
   "id": "Udw1bQCt0jh8",
   "metadata": {
    "colab": {
     "base_uri": "https://localhost:8080/"
    },
    "id": "Udw1bQCt0jh8",
    "outputId": "08fc8a74-666e-4fc1-9b76-e9a056dbff38"
   },
   "outputs": [],
   "source": [
    "# ! pip install dill"
   ]
  },
  {
   "cell_type": "markdown",
   "id": "e363d84f",
   "metadata": {
    "id": "e363d84f"
   },
   "source": [
    "### import libraries"
   ]
  },
  {
   "cell_type": "code",
   "execution_count": 11,
   "id": "aa28550f",
   "metadata": {
    "id": "aa28550f"
   },
   "outputs": [
    {
     "ename": "TypeError",
     "evalue": "object.__init__() takes exactly one argument (the instance to initialize)",
     "output_type": "error",
     "traceback": [
      "\u001b[1;31m---------------------------------------------------------------------------\u001b[0m",
      "\u001b[1;31mTypeError\u001b[0m                                 Traceback (most recent call last)",
      "Cell \u001b[1;32mIn[11], line 2\u001b[0m\n\u001b[0;32m      1\u001b[0m \u001b[38;5;28;01mfrom\u001b[39;00m \u001b[38;5;21;01mAutoClean\u001b[39;00m \u001b[38;5;28;01mimport\u001b[39;00m AutoClean\n\u001b[1;32m----> 2\u001b[0m \u001b[38;5;28;01mfrom\u001b[39;00m \u001b[38;5;21;01mauto_ts\u001b[39;00m \u001b[38;5;28;01mimport\u001b[39;00m auto_timeseries\n\u001b[0;32m      3\u001b[0m \u001b[38;5;28;01mimport\u001b[39;00m \u001b[38;5;21;01mpandas\u001b[39;00m \u001b[38;5;28;01mas\u001b[39;00m \u001b[38;5;21;01mpd\u001b[39;00m\n\u001b[0;32m      4\u001b[0m \u001b[38;5;28;01mimport\u001b[39;00m \u001b[38;5;21;01mnumpy\u001b[39;00m \u001b[38;5;28;01mas\u001b[39;00m \u001b[38;5;21;01mnp\u001b[39;00m\n",
      "File \u001b[1;32m~\\anaconda3\\lib\\site-packages\\auto_ts\\__init__.py:41\u001b[0m\n\u001b[0;32m     37\u001b[0m sns\u001b[38;5;241m.\u001b[39mset(style\u001b[38;5;241m=\u001b[39m\u001b[38;5;124m\"\u001b[39m\u001b[38;5;124mwhite\u001b[39m\u001b[38;5;124m\"\u001b[39m, color_codes\u001b[38;5;241m=\u001b[39m\u001b[38;5;28;01mTrue\u001b[39;00m)\n\u001b[0;32m     39\u001b[0m \u001b[38;5;66;03m#######################################\u001b[39;00m\n\u001b[0;32m     40\u001b[0m \u001b[38;5;66;03m# Models\u001b[39;00m\n\u001b[1;32m---> 41\u001b[0m \u001b[38;5;28;01mfrom\u001b[39;00m \u001b[38;5;21;01m.\u001b[39;00m\u001b[38;5;21;01mmodels\u001b[39;00m \u001b[38;5;28;01mimport\u001b[39;00m BuildBase, BuildArima, BuildAutoSarimax, BuildVAR, BuildML\n\u001b[0;32m     42\u001b[0m \u001b[38;5;28;01mfrom\u001b[39;00m \u001b[38;5;21;01m.\u001b[39;00m\u001b[38;5;21;01mmodels\u001b[39;00m\u001b[38;5;21;01m.\u001b[39;00m\u001b[38;5;21;01mbuild_prophet\u001b[39;00m \u001b[38;5;28;01mimport\u001b[39;00m BuildProphet\n\u001b[0;32m     45\u001b[0m \u001b[38;5;66;03m# Utils\u001b[39;00m\n",
      "File \u001b[1;32m~\\anaconda3\\lib\\site-packages\\auto_ts\\models\\__init__.py:4\u001b[0m\n\u001b[0;32m      2\u001b[0m \u001b[38;5;28;01mfrom\u001b[39;00m \u001b[38;5;21;01m.\u001b[39;00m\u001b[38;5;21;01mar_based\u001b[39;00m \u001b[38;5;28;01mimport\u001b[39;00m BuildArima, BuildSarimax, BuildAutoSarimax, BuildVAR\n\u001b[0;32m      3\u001b[0m \u001b[38;5;28;01mfrom\u001b[39;00m \u001b[38;5;21;01m.\u001b[39;00m\u001b[38;5;21;01mbuild_ml\u001b[39;00m \u001b[38;5;28;01mimport\u001b[39;00m BuildML\n\u001b[1;32m----> 4\u001b[0m \u001b[38;5;28;01mfrom\u001b[39;00m \u001b[38;5;21;01m.\u001b[39;00m\u001b[38;5;21;01mbuild_prophet\u001b[39;00m \u001b[38;5;28;01mimport\u001b[39;00m BuildProphet\n\u001b[0;32m      5\u001b[0m \u001b[38;5;28;01mfrom\u001b[39;00m \u001b[38;5;21;01m.\u001b[39;00m\u001b[38;5;21;01mbuild_pyflux\u001b[39;00m \u001b[38;5;28;01mimport\u001b[39;00m build_pyflux_model\n",
      "File \u001b[1;32m~\\anaconda3\\lib\\site-packages\\auto_ts\\models\\build_prophet.py:19\u001b[0m\n\u001b[0;32m     15\u001b[0m \u001b[38;5;28;01mimport\u001b[39;00m \u001b[38;5;21;01mdask\u001b[39;00m\u001b[38;5;21;01m.\u001b[39;00m\u001b[38;5;21;01mdataframe\u001b[39;00m \u001b[38;5;28;01mas\u001b[39;00m \u001b[38;5;21;01mdd\u001b[39;00m\n\u001b[0;32m     17\u001b[0m \u001b[38;5;28;01mimport\u001b[39;00m \u001b[38;5;21;01mmatplotlib\u001b[39;00m\u001b[38;5;21;01m.\u001b[39;00m\u001b[38;5;21;01mpyplot\u001b[39;00m \u001b[38;5;28;01mas\u001b[39;00m \u001b[38;5;21;01mplt\u001b[39;00m \u001b[38;5;66;03m# type: ignore\u001b[39;00m\n\u001b[1;32m---> 19\u001b[0m \u001b[38;5;28;01mfrom\u001b[39;00m \u001b[38;5;21;01mprophet\u001b[39;00m \u001b[38;5;28;01mimport\u001b[39;00m Prophet \u001b[38;5;66;03m# type: ignore\u001b[39;00m\n\u001b[0;32m     20\u001b[0m \u001b[38;5;28;01mfrom\u001b[39;00m \u001b[38;5;21;01mprophet\u001b[39;00m\u001b[38;5;21;01m.\u001b[39;00m\u001b[38;5;21;01mdiagnostics\u001b[39;00m \u001b[38;5;28;01mimport\u001b[39;00m cross_validation\n\u001b[0;32m     21\u001b[0m \u001b[38;5;28;01mfrom\u001b[39;00m \u001b[38;5;21;01mprophet\u001b[39;00m\u001b[38;5;21;01m.\u001b[39;00m\u001b[38;5;21;01mdiagnostics\u001b[39;00m \u001b[38;5;28;01mimport\u001b[39;00m performance_metrics\n",
      "File \u001b[1;32m~\\anaconda3\\lib\\site-packages\\prophet\\__init__.py:7\u001b[0m\n\u001b[0;32m      1\u001b[0m \u001b[38;5;66;03m# Copyright (c) 2017-present, Facebook, Inc.\u001b[39;00m\n\u001b[0;32m      2\u001b[0m \u001b[38;5;66;03m# All rights reserved.\u001b[39;00m\n\u001b[0;32m      3\u001b[0m \u001b[38;5;66;03m#\u001b[39;00m\n\u001b[0;32m      4\u001b[0m \u001b[38;5;66;03m# This source code is licensed under the BSD-style license found in the\u001b[39;00m\n\u001b[0;32m      5\u001b[0m \u001b[38;5;66;03m# LICENSE file in the root directory of this source tree. An additional grant\u001b[39;00m\n\u001b[0;32m      6\u001b[0m \u001b[38;5;66;03m# of patent rights can be found in the PATENTS file in the same directory.\u001b[39;00m\n\u001b[1;32m----> 7\u001b[0m \u001b[38;5;28;01mfrom\u001b[39;00m \u001b[38;5;21;01mprophet\u001b[39;00m\u001b[38;5;21;01m.\u001b[39;00m\u001b[38;5;21;01mforecaster\u001b[39;00m \u001b[38;5;28;01mimport\u001b[39;00m Prophet\n\u001b[0;32m      9\u001b[0m \u001b[38;5;28;01mfrom\u001b[39;00m \u001b[38;5;21;01mpathlib\u001b[39;00m \u001b[38;5;28;01mimport\u001b[39;00m Path\n\u001b[0;32m     10\u001b[0m about \u001b[38;5;241m=\u001b[39m {}\n",
      "File \u001b[1;32m~\\anaconda3\\lib\\site-packages\\prophet\\forecaster.py:19\u001b[0m\n\u001b[0;32m     16\u001b[0m \u001b[38;5;28;01mimport\u001b[39;00m \u001b[38;5;21;01mpandas\u001b[39;00m \u001b[38;5;28;01mas\u001b[39;00m \u001b[38;5;21;01mpd\u001b[39;00m\n\u001b[0;32m     17\u001b[0m \u001b[38;5;28;01mfrom\u001b[39;00m \u001b[38;5;21;01mnumpy\u001b[39;00m\u001b[38;5;21;01m.\u001b[39;00m\u001b[38;5;21;01mtyping\u001b[39;00m \u001b[38;5;28;01mimport\u001b[39;00m NDArray\n\u001b[1;32m---> 19\u001b[0m \u001b[38;5;28;01mfrom\u001b[39;00m \u001b[38;5;21;01mprophet\u001b[39;00m\u001b[38;5;21;01m.\u001b[39;00m\u001b[38;5;21;01mmake_holidays\u001b[39;00m \u001b[38;5;28;01mimport\u001b[39;00m get_holiday_names, make_holidays_df\n\u001b[0;32m     20\u001b[0m \u001b[38;5;28;01mfrom\u001b[39;00m \u001b[38;5;21;01mprophet\u001b[39;00m\u001b[38;5;21;01m.\u001b[39;00m\u001b[38;5;21;01mmodels\u001b[39;00m \u001b[38;5;28;01mimport\u001b[39;00m StanBackendEnum\n\u001b[0;32m     21\u001b[0m \u001b[38;5;28;01mfrom\u001b[39;00m \u001b[38;5;21;01mprophet\u001b[39;00m\u001b[38;5;21;01m.\u001b[39;00m\u001b[38;5;21;01mplot\u001b[39;00m \u001b[38;5;28;01mimport\u001b[39;00m (plot, plot_components)\n",
      "File \u001b[1;32m~\\anaconda3\\lib\\site-packages\\prophet\\make_holidays.py:14\u001b[0m\n\u001b[0;32m     11\u001b[0m \u001b[38;5;28;01mimport\u001b[39;00m \u001b[38;5;21;01mnumpy\u001b[39;00m \u001b[38;5;28;01mas\u001b[39;00m \u001b[38;5;21;01mnp\u001b[39;00m\n\u001b[0;32m     12\u001b[0m \u001b[38;5;28;01mimport\u001b[39;00m \u001b[38;5;21;01mpandas\u001b[39;00m \u001b[38;5;28;01mas\u001b[39;00m \u001b[38;5;21;01mpd\u001b[39;00m\n\u001b[1;32m---> 14\u001b[0m \u001b[38;5;28;01mimport\u001b[39;00m \u001b[38;5;21;01mprophet\u001b[39;00m\u001b[38;5;21;01m.\u001b[39;00m\u001b[38;5;21;01mhdays\u001b[39;00m \u001b[38;5;28;01mas\u001b[39;00m \u001b[38;5;21;01mhdays_part2\u001b[39;00m\n\u001b[0;32m     15\u001b[0m \u001b[38;5;28;01mimport\u001b[39;00m \u001b[38;5;21;01mholidays\u001b[39;00m \u001b[38;5;28;01mas\u001b[39;00m \u001b[38;5;21;01mhdays_part1\u001b[39;00m\n\u001b[0;32m     18\u001b[0m \u001b[38;5;28;01mdef\u001b[39;00m \u001b[38;5;21mget_holiday_names\u001b[39m(country):\n",
      "File \u001b[1;32m~\\anaconda3\\lib\\site-packages\\prophet\\hdays.py:779\u001b[0m\n\u001b[0;32m    771\u001b[0m     \u001b[38;5;28;01mpass\u001b[39;00m\n\u001b[0;32m    774\u001b[0m \u001b[38;5;66;03m# ------------ Holidays in Turkey---------------------\u001b[39;00m\n\u001b[0;32m    775\u001b[0m \u001b[38;5;66;03m# This is now in Holidays, but with alias TR instead of the TU that we used.\u001b[39;00m\n\u001b[0;32m    776\u001b[0m \u001b[38;5;66;03m# Include TU as an alias for backwards compatibility.\u001b[39;00m\n\u001b[1;32m--> 779\u001b[0m \u001b[38;5;28;01mclass\u001b[39;00m \u001b[38;5;21;01mTU\u001b[39;00m(Turkey):\n\u001b[0;32m    780\u001b[0m     \u001b[38;5;28;01mpass\u001b[39;00m\n\u001b[0;32m    783\u001b[0m \u001b[38;5;66;03m# ------------ Holidays in Pakistan---------------------\u001b[39;00m\n",
      "File \u001b[1;32m~\\anaconda3\\lib\\site-packages\\holidays\\registry.py:178\u001b[0m, in \u001b[0;36mEntityLoader.__init__\u001b[1;34m(self, path, *args, **kwargs)\u001b[0m\n\u001b[0;32m    175\u001b[0m \u001b[38;5;28mself\u001b[39m\u001b[38;5;241m.\u001b[39mentity_name \u001b[38;5;241m=\u001b[39m entity_path[\u001b[38;5;241m-\u001b[39m\u001b[38;5;241m1\u001b[39m]\n\u001b[0;32m    176\u001b[0m \u001b[38;5;28mself\u001b[39m\u001b[38;5;241m.\u001b[39mmodule_name \u001b[38;5;241m=\u001b[39m \u001b[38;5;124m\"\u001b[39m\u001b[38;5;124m.\u001b[39m\u001b[38;5;124m\"\u001b[39m\u001b[38;5;241m.\u001b[39mjoin(entity_path[\u001b[38;5;241m0\u001b[39m:\u001b[38;5;241m-\u001b[39m\u001b[38;5;241m1\u001b[39m])\n\u001b[1;32m--> 178\u001b[0m \u001b[38;5;28msuper\u001b[39m()\u001b[38;5;241m.\u001b[39m\u001b[38;5;21m__init__\u001b[39m(\u001b[38;5;241m*\u001b[39margs, \u001b[38;5;241m*\u001b[39m\u001b[38;5;241m*\u001b[39mkwargs)\n",
      "\u001b[1;31mTypeError\u001b[0m: object.__init__() takes exactly one argument (the instance to initialize)"
     ]
    }
   ],
   "source": [
    "from AutoClean import AutoClean\n",
    "from auto_ts import auto_timeseries\n",
    "import pandas as pd\n",
    "import numpy as np\n",
    "import joblib\n",
    "import pickle\n",
    "import warnings\n",
    "warnings.filterwarnings('ignore')\n",
    "import dill"
   ]
  },
  {
   "cell_type": "code",
   "execution_count": null,
   "id": "g2kvkpmCl6l7",
   "metadata": {
    "id": "g2kvkpmCl6l7"
   },
   "outputs": [],
   "source": [
    "data = pd.read_csv('/content/BAC.csv')"
   ]
  },
  {
   "cell_type": "markdown",
   "id": "0cc48030",
   "metadata": {
    "id": "0cc48030"
   },
   "source": [
    "### define model train function"
   ]
  },
  {
   "cell_type": "code",
   "execution_count": 29,
   "id": "c2346bf8",
   "metadata": {
    "id": "c2346bf8"
   },
   "outputs": [],
   "source": [
    "def perform_time_series_forecast(df , target , ts_column , model_path , time_interval):\n",
    "\n",
    "\n",
    "    # Step 1 : Clean and Preprrocessing data\n",
    "\n",
    "    pipeline = AutoClean(df, mode = 'auto' , duplicates = 'auto', missing_num = 'auto', missing_categ = 'auto',\n",
    "            encode_categ = 'auto', extract_datetime=True, outliers='auto', outlier_param=1.5,\n",
    "            logfile=False, verbose=False)\n",
    "\n",
    "\n",
    "    data = pipeline.output\n",
    "\n",
    "    # Step 2 : splitting data into train and test\n",
    "\n",
    "    data_training = pd.DataFrame( data[[target,ts_column]][0:int(len(df)*0.80)] )\n",
    "    data_testing = pd.DataFrame( data[[target,ts_column]][int(len(df)*0.80):int(len(df))] )\n",
    "\n",
    "    # Step 3 : define model and metric\n",
    "\n",
    "    model = auto_timeseries( forecast_period = 61 ,\n",
    "                          score_type = 'rmse' ,\n",
    "                            time_interval = time_interval ,\n",
    "                          model_type = 'best' )\n",
    "    # Step 4 : fitting data\n",
    "\n",
    "    model.fit( traindata = data_training ,\n",
    "            ts_column = ts_column ,\n",
    "            target = target )\n",
    "    # Step 5 : model predcition\n",
    "\n",
    "    future_predictions = model.predict(testdata=data_testing)\n",
    "\n",
    "    # Step 6 : insert predicted column\n",
    "\n",
    "    data_testing[\"Prophet Predictions\"] = future_predictions[\"yhat\"].values\n",
    "\n",
    "\n",
    "    # Step 7 : save best model\n",
    "\n",
    "    with open(model_path, 'wb') as file:\n",
    "      dill.dump(model, file)\n",
    "\n",
    "    return data_testing"
   ]
  },
  {
   "cell_type": "code",
   "execution_count": null,
   "id": "57437b53",
   "metadata": {
    "colab": {
     "base_uri": "https://localhost:8080/"
    },
    "id": "57437b53",
    "outputId": "7eb78994-1aef-4cf9-a295-728e00d4d611"
   },
   "outputs": [
    {
     "name": "stdout",
     "output_type": "stream",
     "text": [
      "AutoClean process completed in 0.594107 seconds\n",
      "Start of Fit.....\n",
      "    Target variable given as = Close\n",
      "Start of loading of data.....\n",
      "    Inputs: ts_column = Date, sep = ,, target = ['Close']\n",
      "    Using given input: pandas dataframe...\n",
      "    Date column exists in given train data...\n",
      "    train data shape = (4228, 1)\n",
      "Alert: Could not detect strf_time_format of Date. Provide strf_time format during \"setup\" for better results.\n",
      "\n",
      "Running Augmented Dickey-Fuller test with paramters:\n",
      "    maxlag: 31 regression: c autolag: BIC\n"
     ]
    },
    {
     "name": "stderr",
     "output_type": "stream",
     "text": [
      "DEBUG:cmdstanpy:input tempfile: /tmp/tmpvp33kusr/87_3blqy.json\n"
     ]
    },
    {
     "name": "stdout",
     "output_type": "stream",
     "text": [
      "Data is stationary after one differencing\n",
      "There is 1 differencing needed in this datasets for VAR model\n",
      "    No time series plot since verbose = 0. Continuing\n",
      "Time Interval is given as D\n",
      "    Correct Time interval given as a valid Pandas date-range frequency...\n",
      "\u001b[1mWARNING: Running best models will take time... Be Patient...\u001b[0m\n",
      "\n",
      "\n",
      "==================================================\n",
      "Building Prophet Model\n",
      "==================================================\n",
      "\n",
      "\n",
      "\u001b[1m\n",
      "Running Facebook Prophet Model...\u001b[0m\n",
      "kwargs for Prophet model: {'iter': 100}\n",
      "  Starting Prophet Fit\n",
      "      No seasonality assumed since seasonality flag is set to False\n",
      "  Starting Prophet Cross Validation\n",
      "Max. iterations using expanding window cross validation = 5\n",
      "\n",
      "Fold Number: 1 --> Train Shape: 3923 Test Shape: 61\n"
     ]
    },
    {
     "name": "stderr",
     "output_type": "stream",
     "text": [
      "DEBUG:cmdstanpy:input tempfile: /tmp/tmpvp33kusr/8o3xkxrg.json\n",
      "DEBUG:cmdstanpy:idx 0\n",
      "DEBUG:cmdstanpy:running CmdStan, num_threads: None\n",
      "DEBUG:cmdstanpy:CmdStan args: ['/usr/local/lib/python3.10/dist-packages/prophet/stan_model/prophet_model.bin', 'random', 'seed=98149', 'data', 'file=/tmp/tmpvp33kusr/87_3blqy.json', 'init=/tmp/tmpvp33kusr/8o3xkxrg.json', 'output', 'file=/tmp/tmpvp33kusr/prophet_modelkc41vsky/prophet_model-20230712065936.csv', 'method=optimize', 'algorithm=lbfgs', 'iter=100']\n",
      "06:59:36 - cmdstanpy - INFO - Chain [1] start processing\n",
      "INFO:cmdstanpy:Chain [1] start processing\n",
      "06:59:36 - cmdstanpy - INFO - Chain [1] done processing\n",
      "INFO:cmdstanpy:Chain [1] done processing\n",
      "DEBUG:cmdstanpy:input tempfile: /tmp/tmpvp33kusr/kb5lrn9k.json\n"
     ]
    },
    {
     "name": "stdout",
     "output_type": "stream",
     "text": [
      "    RMSE = 6.38\n",
      "    Std Deviation of actuals = 1.65\n",
      "    Normalized RMSE (as pct of std dev) = 387%\n",
      "Cross Validation window: 1 completed\n",
      "\n",
      "Fold Number: 2 --> Train Shape: 3984 Test Shape: 61\n"
     ]
    },
    {
     "name": "stderr",
     "output_type": "stream",
     "text": [
      "DEBUG:cmdstanpy:input tempfile: /tmp/tmpvp33kusr/7t_3sg3p.json\n",
      "DEBUG:cmdstanpy:idx 0\n",
      "DEBUG:cmdstanpy:running CmdStan, num_threads: None\n",
      "DEBUG:cmdstanpy:CmdStan args: ['/usr/local/lib/python3.10/dist-packages/prophet/stan_model/prophet_model.bin', 'random', 'seed=68392', 'data', 'file=/tmp/tmpvp33kusr/kb5lrn9k.json', 'init=/tmp/tmpvp33kusr/7t_3sg3p.json', 'output', 'file=/tmp/tmpvp33kusr/prophet_modeluveasg1j/prophet_model-20230712065937.csv', 'method=optimize', 'algorithm=lbfgs', 'iter=100']\n",
      "06:59:37 - cmdstanpy - INFO - Chain [1] start processing\n",
      "INFO:cmdstanpy:Chain [1] start processing\n",
      "06:59:37 - cmdstanpy - INFO - Chain [1] done processing\n",
      "INFO:cmdstanpy:Chain [1] done processing\n",
      "DEBUG:cmdstanpy:input tempfile: /tmp/tmpvp33kusr/8z70sbtt.json\n"
     ]
    },
    {
     "name": "stdout",
     "output_type": "stream",
     "text": [
      "    RMSE = 6.47\n",
      "    Std Deviation of actuals = 1.08\n",
      "    Normalized RMSE (as pct of std dev) = 601%\n",
      "Cross Validation window: 2 completed\n",
      "\n",
      "Fold Number: 3 --> Train Shape: 4045 Test Shape: 61\n"
     ]
    },
    {
     "name": "stderr",
     "output_type": "stream",
     "text": [
      "DEBUG:cmdstanpy:input tempfile: /tmp/tmpvp33kusr/_t8s4pk2.json\n",
      "DEBUG:cmdstanpy:idx 0\n",
      "DEBUG:cmdstanpy:running CmdStan, num_threads: None\n",
      "DEBUG:cmdstanpy:CmdStan args: ['/usr/local/lib/python3.10/dist-packages/prophet/stan_model/prophet_model.bin', 'random', 'seed=17053', 'data', 'file=/tmp/tmpvp33kusr/8z70sbtt.json', 'init=/tmp/tmpvp33kusr/_t8s4pk2.json', 'output', 'file=/tmp/tmpvp33kusr/prophet_models1ecii8b/prophet_model-20230712065938.csv', 'method=optimize', 'algorithm=lbfgs', 'iter=100']\n",
      "06:59:38 - cmdstanpy - INFO - Chain [1] start processing\n",
      "INFO:cmdstanpy:Chain [1] start processing\n",
      "06:59:38 - cmdstanpy - INFO - Chain [1] done processing\n",
      "INFO:cmdstanpy:Chain [1] done processing\n"
     ]
    },
    {
     "name": "stdout",
     "output_type": "stream",
     "text": [
      "    RMSE = 2.27\n",
      "    Std Deviation of actuals = 0.85\n",
      "    Normalized RMSE (as pct of std dev) = 268%\n",
      "Cross Validation window: 3 completed\n",
      "\n",
      "Fold Number: 4 --> Train Shape: 4106 Test Shape: 61\n"
     ]
    },
    {
     "name": "stderr",
     "output_type": "stream",
     "text": [
      "DEBUG:cmdstanpy:input tempfile: /tmp/tmpvp33kusr/c0igtbj0.json\n",
      "DEBUG:cmdstanpy:input tempfile: /tmp/tmpvp33kusr/os6a7za0.json\n",
      "DEBUG:cmdstanpy:idx 0\n",
      "DEBUG:cmdstanpy:running CmdStan, num_threads: None\n",
      "DEBUG:cmdstanpy:CmdStan args: ['/usr/local/lib/python3.10/dist-packages/prophet/stan_model/prophet_model.bin', 'random', 'seed=35458', 'data', 'file=/tmp/tmpvp33kusr/c0igtbj0.json', 'init=/tmp/tmpvp33kusr/os6a7za0.json', 'output', 'file=/tmp/tmpvp33kusr/prophet_model26xd4e96/prophet_model-20230712065940.csv', 'method=optimize', 'algorithm=lbfgs', 'iter=100']\n",
      "06:59:40 - cmdstanpy - INFO - Chain [1] start processing\n",
      "INFO:cmdstanpy:Chain [1] start processing\n",
      "06:59:40 - cmdstanpy - INFO - Chain [1] done processing\n",
      "INFO:cmdstanpy:Chain [1] done processing\n",
      "DEBUG:cmdstanpy:input tempfile: /tmp/tmpvp33kusr/c07hgnwt.json\n"
     ]
    },
    {
     "name": "stdout",
     "output_type": "stream",
     "text": [
      "    RMSE = 1.88\n",
      "    Std Deviation of actuals = 0.76\n",
      "    Normalized RMSE (as pct of std dev) = 246%\n",
      "Cross Validation window: 4 completed\n",
      "\n",
      "Fold Number: 5 --> Train Shape: 4167 Test Shape: 61\n"
     ]
    },
    {
     "name": "stderr",
     "output_type": "stream",
     "text": [
      "DEBUG:cmdstanpy:input tempfile: /tmp/tmpvp33kusr/te5c2qwf.json\n",
      "DEBUG:cmdstanpy:idx 0\n",
      "DEBUG:cmdstanpy:running CmdStan, num_threads: None\n",
      "DEBUG:cmdstanpy:CmdStan args: ['/usr/local/lib/python3.10/dist-packages/prophet/stan_model/prophet_model.bin', 'random', 'seed=67130', 'data', 'file=/tmp/tmpvp33kusr/c07hgnwt.json', 'init=/tmp/tmpvp33kusr/te5c2qwf.json', 'output', 'file=/tmp/tmpvp33kusr/prophet_model2g460fes/prophet_model-20230712065941.csv', 'method=optimize', 'algorithm=lbfgs', 'iter=100']\n",
      "06:59:41 - cmdstanpy - INFO - Chain [1] start processing\n",
      "INFO:cmdstanpy:Chain [1] start processing\n",
      "06:59:42 - cmdstanpy - INFO - Chain [1] done processing\n",
      "INFO:cmdstanpy:Chain [1] done processing\n"
     ]
    },
    {
     "name": "stdout",
     "output_type": "stream",
     "text": [
      "    RMSE = 4.71\n",
      "    Std Deviation of actuals = 1.62\n",
      "    Normalized RMSE (as pct of std dev) = 290%\n",
      "Cross Validation window: 5 completed\n",
      "\n",
      "-------------------------------------------\n",
      "Model Cross Validation Results:\n",
      "-------------------------------------------\n",
      "    MAE (Mean Absolute Error = 4.15\n",
      "    MSE (Mean Squared Error = 22.67\n",
      "    MAPE (Mean Absolute Percent Error) = 14%\n",
      "    RMSE (Root Mean Squared Error) = 4.7614\n",
      "    Normalized RMSE (MinMax) = 47%\n",
      "    Normalized RMSE (as Std Dev of Actuals)= 230%\n",
      "Time Taken = 10 seconds\n"
     ]
    },
    {
     "name": "stderr",
     "output_type": "stream",
     "text": [
      "DEBUG:cmdstanpy:input tempfile: /tmp/tmpvp33kusr/t5jz2tbv.json\n",
      "DEBUG:cmdstanpy:input tempfile: /tmp/tmpvp33kusr/ots5w2rn.json\n",
      "DEBUG:cmdstanpy:idx 0\n",
      "DEBUG:cmdstanpy:running CmdStan, num_threads: None\n",
      "DEBUG:cmdstanpy:CmdStan args: ['/usr/local/lib/python3.10/dist-packages/prophet/stan_model/prophet_model.bin', 'random', 'seed=78510', 'data', 'file=/tmp/tmpvp33kusr/t5jz2tbv.json', 'init=/tmp/tmpvp33kusr/ots5w2rn.json', 'output', 'file=/tmp/tmpvp33kusr/prophet_model3u73_x9x/prophet_model-20230712065946.csv', 'method=optimize', 'algorithm=lbfgs', 'iter=100']\n",
      "06:59:46 - cmdstanpy - INFO - Chain [1] start processing\n",
      "INFO:cmdstanpy:Chain [1] start processing\n",
      "06:59:47 - cmdstanpy - INFO - Chain [1] done processing\n",
      "INFO:cmdstanpy:Chain [1] done processing\n"
     ]
    },
    {
     "name": "stdout",
     "output_type": "stream",
     "text": [
      "  End of Prophet Fit\n",
      "\n",
      "\n",
      "==================================================\n",
      "Building Auto SARIMAX Model\n",
      "==================================================\n",
      "\n",
      "\n",
      "\u001b[1m\n",
      "Running Auto SARIMAX Model...\u001b[0m\n",
      "    Using smaller parameters for larger dataset with greater than 1000 samples\n",
      "    Using smaller parameters for larger dataset with greater than 1000 samples\n",
      "    Using smaller parameters for larger dataset with greater than 1000 samples\n",
      "    Using smaller parameters for larger dataset with greater than 1000 samples\n",
      "    Using smaller parameters for larger dataset with greater than 1000 samples\n"
     ]
    }
   ],
   "source": [
    "df = data\n",
    "target = 'Close'\n",
    "ts_column = 'Date' # name of datetime column\n",
    "time_interval = 'D' # the frequency at which the data is collected\n",
    "model_path = '/content/Time_series.pkl'\n",
    "\n",
    "\n",
    "\n",
    "\n",
    "perform_time_series_forecast(df , target , ts_column , model_path ,time_interval )"
   ]
  },
  {
   "cell_type": "markdown",
   "id": "4cbb8f7d",
   "metadata": {
    "id": "4cbb8f7d"
   },
   "source": [
    "### load and predict function"
   ]
  },
  {
   "cell_type": "code",
   "execution_count": null,
   "id": "aef4b1f0",
   "metadata": {
    "id": "aef4b1f0"
   },
   "outputs": [],
   "source": [
    "def load_and_predict(data, model_path, output_path):\n",
    "\n",
    "    # Step 2: Load the saved model\n",
    "    model = joblib.load(model_path)\n",
    "\n",
    "\n",
    "    # Step 4: Make predictions using the loaded model\n",
    "    predictions = loaded_model.predict(data)\n",
    "\n",
    "    # Step 5: Convert the predictions to a Pandas DataFrame\n",
    "    data['Predicted_Values'] = predictions\n",
    "\n",
    "    # Step 7: Save the data with predictions as a CSV file\n",
    "    data.to_csv(output_path, index=False)\n",
    "\n",
    "    return data_with_predictions"
   ]
  },
  {
   "cell_type": "code",
   "execution_count": null,
   "id": "73f50e0a",
   "metadata": {
    "id": "73f50e0a"
   },
   "outputs": [],
   "source": [
    "data = .....\n",
    "model_path = ....\n",
    "output_path = .....\n",
    "\n",
    "load_and_predict(data, model_path, output_path)"
   ]
  },
  {
   "cell_type": "code",
   "execution_count": null,
   "id": "e891e089",
   "metadata": {
    "id": "e891e089"
   },
   "outputs": [],
   "source": []
  },
  {
   "cell_type": "markdown",
   "id": "f50a2d0a",
   "metadata": {
    "id": "f50a2d0a"
   },
   "source": [
    "### Auto-TS link\n",
    "- https://github.com/AutoViML/Auto_TS#the-next-step-after-training-the-model-object-is-to-make-some-predictions-with-test-data\n",
    "\n",
    "### Auto-Clean link\n",
    "- https://github.com/elisemercury/AutoClean"
   ]
  },
  {
   "cell_type": "code",
   "execution_count": null,
   "id": "8fb7bc80",
   "metadata": {
    "id": "8fb7bc80"
   },
   "outputs": [],
   "source": []
  },
  {
   "cell_type": "code",
   "execution_count": null,
   "id": "49c18583",
   "metadata": {
    "id": "49c18583"
   },
   "outputs": [],
   "source": []
  },
  {
   "cell_type": "code",
   "execution_count": null,
   "id": "4963af32",
   "metadata": {
    "id": "4963af32"
   },
   "outputs": [],
   "source": []
  },
  {
   "cell_type": "code",
   "execution_count": null,
   "id": "95a00bed",
   "metadata": {
    "id": "95a00bed"
   },
   "outputs": [],
   "source": []
  },
  {
   "cell_type": "code",
   "execution_count": null,
   "id": "e0632849",
   "metadata": {
    "id": "e0632849"
   },
   "outputs": [],
   "source": []
  },
  {
   "cell_type": "code",
   "execution_count": null,
   "id": "ef0752ed",
   "metadata": {
    "id": "ef0752ed"
   },
   "outputs": [],
   "source": []
  }
 ],
 "metadata": {
  "colab": {
   "provenance": []
  },
  "kernelspec": {
   "display_name": "Python 3 (ipykernel)",
   "language": "python",
   "name": "python3"
  },
  "language_info": {
   "codemirror_mode": {
    "name": "ipython",
    "version": 3
   },
   "file_extension": ".py",
   "mimetype": "text/x-python",
   "name": "python",
   "nbconvert_exporter": "python",
   "pygments_lexer": "ipython3",
   "version": "3.10.9"
  }
 },
 "nbformat": 4,
 "nbformat_minor": 5
}
