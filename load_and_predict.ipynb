{
 "cells": [
  {
   "cell_type": "code",
   "execution_count": null,
   "id": "06b01d73",
   "metadata": {},
   "outputs": [],
   "source": [
    "def load_and_predict(data, model_path, output_path):\n",
    "    # Step 1: Initialize H2O\n",
    "    h2o.init()\n",
    "\n",
    "    # Step 2: Load the saved model\n",
    "    loaded_model = h2o.load_model(model_path)\n",
    "\n",
    "    # Step 3: Convert the data to H2O Frame\n",
    "    h2o_df = h2o.H2OFrame(data)\n",
    "\n",
    "    # Step 4: Make predictions using the loaded model\n",
    "    predictions = loaded_model.predict(h2o_df)\n",
    "\n",
    "    # Step 5: Convert the predictions to a Pandas DataFrame\n",
    "    predictions_df = predictions.as_data_frame()\n",
    "\n",
    "    # Step 6: Merge the original data with the predictions\n",
    "    data_with_predictions = data.copy()\n",
    "    data_with_predictions['predictions'] = predictions_df['predict']\n",
    "\n",
    "    # Step 7: Save the data with predictions as a CSV file\n",
    "    data_with_predictions.to_csv(output_path, index=False)\n",
    "\n",
    "    return data_with_predictions"
   ]
  }
 ],
 "metadata": {
  "kernelspec": {
   "display_name": "Python 3 (ipykernel)",
   "language": "python",
   "name": "python3"
  },
  "language_info": {
   "codemirror_mode": {
    "name": "ipython",
    "version": 3
   },
   "file_extension": ".py",
   "mimetype": "text/x-python",
   "name": "python",
   "nbconvert_exporter": "python",
   "pygments_lexer": "ipython3",
   "version": "3.10.9"
  }
 },
 "nbformat": 4,
 "nbformat_minor": 5
}
